{
 "cells": [
  {
   "cell_type": "code",
   "execution_count": null,
   "id": "2ad98434",
   "metadata": {},
   "outputs": [],
   "source": [
    "import pandas as pd"
   ]
  },
  {
   "cell_type": "code",
   "execution_count": null,
   "id": "35815e89",
   "metadata": {},
   "outputs": [],
   "source": [
    "data=pd.read_csv(\"Disney_CogTax_CA_Audit_Addl_Training-Working_Transaction.csv\")"
   ]
  },
  {
   "cell_type": "code",
   "execution_count": null,
   "id": "1648d728",
   "metadata": {},
   "outputs": [],
   "source": [
    "data.info()"
   ]
  },
  {
   "cell_type": "code",
   "execution_count": null,
   "id": "a68d2101",
   "metadata": {},
   "outputs": [],
   "source": [
    "data.describe()"
   ]
  },
  {
   "cell_type": "code",
   "execution_count": null,
   "id": "89d6415b",
   "metadata": {},
   "outputs": [],
   "source": [
    "import numpy as np\n",
    "import matplotlib.pyplot as plt\n"
   ]
  },
  {
   "cell_type": "code",
   "execution_count": null,
   "id": "9c2a1a4d",
   "metadata": {},
   "outputs": [],
   "source": [
    "import seaborn as sns\n",
    "import scipy.stats as st\n",
    "from sklearn import ensemble, tree, linear_model\n",
    "\n",
    "import warnings\n",
    "import matplotlib as mpl"
   ]
  },
  {
   "cell_type": "code",
   "execution_count": null,
   "id": "420d191f",
   "metadata": {},
   "outputs": [],
   "source": [
    "data.head()"
   ]
  },
  {
   "cell_type": "code",
   "execution_count": null,
   "id": "7666d8f3",
   "metadata": {},
   "outputs": [],
   "source": [
    "data.tail()"
   ]
  },
  {
   "cell_type": "code",
   "execution_count": null,
   "id": "80351ee0",
   "metadata": {},
   "outputs": [],
   "source": [
    "data.columns"
   ]
  },
  {
   "cell_type": "code",
   "execution_count": null,
   "id": "f780dc2c",
   "metadata": {},
   "outputs": [],
   "source": [
    "data.shape"
   ]
  },
  {
   "cell_type": "code",
   "execution_count": null,
   "id": "d67ff3f2",
   "metadata": {},
   "outputs": [],
   "source": [
    "data.info()"
   ]
  },
  {
   "cell_type": "code",
   "execution_count": null,
   "id": "ce40b525",
   "metadata": {},
   "outputs": [],
   "source": [
    "len(data)"
   ]
  },
  {
   "cell_type": "code",
   "execution_count": null,
   "id": "8bdb4d79",
   "metadata": {},
   "outputs": [],
   "source": [
    "data.loc[:,['Invoice.ParentCompanyCode','Taxability.STATE.Status']]"
   ]
  },
  {
   "cell_type": "code",
   "execution_count": null,
   "id": "8fcf498a",
   "metadata": {},
   "outputs": [],
   "source": [
    "data.iloc[:, 4:]"
   ]
  },
  {
   "cell_type": "code",
   "execution_count": null,
   "id": "b7ff4c2f",
   "metadata": {},
   "outputs": [],
   "source": [
    "data.memory_usage(deep=True)"
   ]
  },
  {
   "cell_type": "code",
   "execution_count": null,
   "id": "db6a4a98",
   "metadata": {},
   "outputs": [],
   "source": [
    "data['Taxability.STATE.Status'].value_counts()"
   ]
  },
  {
   "cell_type": "code",
   "execution_count": null,
   "id": "f9b72812",
   "metadata": {},
   "outputs": [],
   "source": [
    "data['Taxability.STATE.Exemption.CategoryCode'].value_counts()"
   ]
  },
  {
   "cell_type": "code",
   "execution_count": null,
   "id": "5c16be01",
   "metadata": {},
   "outputs": [],
   "source": []
  },
  {
   "cell_type": "code",
   "execution_count": null,
   "id": "0cfcc3a0",
   "metadata": {},
   "outputs": [],
   "source": [
    "print(data.info())"
   ]
  },
  {
   "cell_type": "code",
   "execution_count": null,
   "id": "9b6182a7",
   "metadata": {},
   "outputs": [],
   "source": [
    "data.drop(\"Document.Name\",axis=1,inplace=True)"
   ]
  },
  {
   "cell_type": "code",
   "execution_count": null,
   "id": "b36bb506",
   "metadata": {},
   "outputs": [],
   "source": [
    "data.info()"
   ]
  },
  {
   "cell_type": "markdown",
   "id": "aacf3218",
   "metadata": {},
   "source": [
    "### Dropped Columns with 0 entries"
   ]
  },
  {
   "cell_type": "code",
   "execution_count": null,
   "id": "e8b93ef0",
   "metadata": {},
   "outputs": [],
   "source": []
  },
  {
   "cell_type": "code",
   "execution_count": null,
   "id": "f8e35def",
   "metadata": {},
   "outputs": [],
   "source": [
    "data.drop(\"Invoice.ShipToAddress.City\",axis=1,inplace=True)\n",
    "data.drop(\"Invoice.ShipToAddress.State\",axis=1,inplace=True)\n",
    "data.drop(\"Invoice.ShipToAddress.Street\",axis=1,inplace=True)\n",
    "data.drop(\"Invoice.ShipToAddress.County\",axis=1,inplace=True)\n",
    "data.drop(\"Invoice.ShipToAddress.Zip\",axis=1,inplace=True)\n",
    "data.drop(\"Taxability.STATE.TaxEstimated.TaxableAmount\",axis=1,inplace=True)\n",
    "data.drop(\"Line.ShipToAddress.City\",axis=1,inplace=True)\n",
    "data.drop(\"Line.ShipToAddress.Street\",axis=1,inplace=True)\n",
    "data.drop(\"Line.ShipToAddress.County\",axis=1,inplace=True)\n",
    "data.drop(\"Line.ShipToAddress.Zip\",axis=1,inplace=True)\n",
    "data.drop(\"@CustomField(Invoice,Cluster_Count,Invoice,INTEGER)\",axis=1,inplace=True)\n",
    "data.drop(\"@CustomField(Invoice,TAMT,Invoice,DOUBLE)\",axis=1,inplace=True)\n",
    "data.drop(\"@CustomField(Invoice,COUNTY_TAMT,Invoice,DOUBLE)\",axis=1,inplace=True)\n",
    "data.drop(\"@CustomField(Invoice,OCRExtractedSalesTax,OCR,DOUBLE)\",axis=1,inplace=True)\n",
    "data.drop(\"@CustomField(Invoice,OCRConfidence,OCR,DOUBLE)\",axis=1,inplace=True)"
   ]
  },
  {
   "cell_type": "code",
   "execution_count": null,
   "id": "e83db295",
   "metadata": {},
   "outputs": [],
   "source": [
    "data.info()"
   ]
  },
  {
   "cell_type": "code",
   "execution_count": null,
   "id": "cdd3d7b3",
   "metadata": {},
   "outputs": [],
   "source": [
    "print(data.isnull().sum())"
   ]
  },
  {
   "cell_type": "code",
   "execution_count": null,
   "id": "849ca290",
   "metadata": {},
   "outputs": [],
   "source": [
    "data.info()"
   ]
  },
  {
   "cell_type": "code",
   "execution_count": null,
   "id": "d02d69ec",
   "metadata": {},
   "outputs": [],
   "source": [
    "updated_data=data\n",
    "print(updated_data.info())"
   ]
  },
  {
   "cell_type": "code",
   "execution_count": null,
   "id": "4e0d06b9",
   "metadata": {},
   "outputs": [],
   "source": [
    "updated_data=updated_data.replace(to_replace=\"N.A\",value=np.nan)"
   ]
  },
  {
   "cell_type": "code",
   "execution_count": null,
   "id": "b4fe634e",
   "metadata": {},
   "outputs": [],
   "source": [
    "updated_data=updated_data.replace(to_replace=\"global thing\",value=np.nan)"
   ]
  },
  {
   "cell_type": "code",
   "execution_count": null,
   "id": "8538cdf9",
   "metadata": {},
   "outputs": [],
   "source": [
    "updated_data.isna().sum()"
   ]
  },
  {
   "cell_type": "code",
   "execution_count": null,
   "id": "1268427b",
   "metadata": {},
   "outputs": [],
   "source": [
    "print(updated_data[\"Taxability.STATE.Exemption.CategoryCode\"].head(25))"
   ]
  },
  {
   "cell_type": "code",
   "execution_count": null,
   "id": "d364dfd9",
   "metadata": {},
   "outputs": [],
   "source": []
  },
  {
   "cell_type": "code",
   "execution_count": null,
   "id": "9a336033",
   "metadata": {},
   "outputs": [],
   "source": []
  },
  {
   "cell_type": "code",
   "execution_count": null,
   "id": "bff51b7e",
   "metadata": {},
   "outputs": [],
   "source": []
  },
  {
   "cell_type": "code",
   "execution_count": null,
   "id": "58c904fd",
   "metadata": {},
   "outputs": [],
   "source": []
  },
  {
   "cell_type": "code",
   "execution_count": null,
   "id": "6c668292",
   "metadata": {},
   "outputs": [],
   "source": []
  },
  {
   "cell_type": "code",
   "execution_count": null,
   "id": "6067b720",
   "metadata": {},
   "outputs": [],
   "source": []
  },
  {
   "cell_type": "code",
   "execution_count": null,
   "id": "f87a2d5b",
   "metadata": {},
   "outputs": [],
   "source": []
  },
  {
   "cell_type": "code",
   "execution_count": null,
   "id": "0f4f8e8d",
   "metadata": {},
   "outputs": [],
   "source": []
  },
  {
   "cell_type": "code",
   "execution_count": null,
   "id": "a869bf24",
   "metadata": {},
   "outputs": [],
   "source": []
  },
  {
   "cell_type": "code",
   "execution_count": null,
   "id": "58afbfde",
   "metadata": {},
   "outputs": [],
   "source": []
  },
  {
   "cell_type": "code",
   "execution_count": null,
   "id": "213e6256",
   "metadata": {},
   "outputs": [],
   "source": []
  },
  {
   "cell_type": "code",
   "execution_count": null,
   "id": "1762fb9c",
   "metadata": {},
   "outputs": [],
   "source": []
  }
 ],
 "metadata": {
  "kernelspec": {
   "display_name": "Python 3 (ipykernel)",
   "language": "python",
   "name": "python3"
  },
  "language_info": {
   "codemirror_mode": {
    "name": "ipython",
    "version": 3
   },
   "file_extension": ".py",
   "mimetype": "text/x-python",
   "name": "python",
   "nbconvert_exporter": "python",
   "pygments_lexer": "ipython3",
   "version": "3.9.13"
  }
 },
 "nbformat": 4,
 "nbformat_minor": 5
}
