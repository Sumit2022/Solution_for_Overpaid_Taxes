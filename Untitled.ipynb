{
 "cells": [
  {
   "cell_type": "code",
   "execution_count": 79,
   "id": "4d40e287",
   "metadata": {},
   "outputs": [],
   "source": [
    "import pandas as pd\n",
    "import numpy as np\n",
    "import seaborn as sns\n",
    "import matplotlib as plt"
   ]
  },
  {
   "cell_type": "code",
   "execution_count": 53,
   "id": "fd1c68f6",
   "metadata": {},
   "outputs": [],
   "source": [
    "df=pd.read_csv(\"Disney_CogTax_CA_Audit_Addl_Training-Working_Transaction.csv\")"
   ]
  },
  {
   "cell_type": "code",
   "execution_count": 54,
   "id": "c87c4d4a",
   "metadata": {},
   "outputs": [
    {
     "data": {
      "text/plain": [
       "Index(['Invoice.ParentCompanyCode', 'Invoice.CompanyCode',\n",
       "       'Invoice.VendorName', 'Invoice.VendorCode', 'Invoice.Date',\n",
       "       'Invoice.Number', 'Invoice.Sequence', 'Line.Number',\n",
       "       'Line.CostCenterCode', 'Line.GLMainAccountNumber',\n",
       "       'Line.GLSubAccountNumber', 'Line.GLAccountDescription',\n",
       "       'Invoice.Description', 'Line.ItemDescription', 'Invoice.GrossValue',\n",
       "       'Invoice.SalesTaxPaid', 'Invoice.UseTax', 'Invoice.NetValue',\n",
       "       'Line.GrossValue', 'Line.SalesTaxPaid', 'Line.UseTax', 'Line.NetValue',\n",
       "       'Invoice.PaymentReference', 'Taxability.STATE.JurisdictionCode',\n",
       "       'Taxability.STATE.JurisdictionDescription',\n",
       "       'Taxability.STATE.OutOfStatuteDate', 'Document.Name', 'Taxability.Mode',\n",
       "       'Taxability.STATE.Status', 'Taxability.STATE.ReviewStatus',\n",
       "       'Taxability.STATE.Confidence',\n",
       "       'Taxability.STATE.Exemption.CategoryCode', 'Invoice.ShipToAddress.City',\n",
       "       'Invoice.ShipToAddress.State', 'Invoice.ShipToAddress.Street',\n",
       "       'Invoice.ShipToAddress.County', 'Invoice.ShipToAddress.Zip',\n",
       "       'Invoice.Note.text', 'Invoice.VoucherCode', 'Invoice.TransactionDate',\n",
       "       'Taxability.STATE.TaxEstimated.Rate',\n",
       "       'Taxability.STATE.TaxEstimated.TaxableAmount',\n",
       "       'Line.PurchaseOrderNumber', 'Line.PurchaseOrderDescription',\n",
       "       'Line.ShipToAddress.City', 'Line.ShipToAddress.State',\n",
       "       'Line.ShipToAddress.Street', 'Line.ShipToAddress.County',\n",
       "       'Line.ShipToAddress.Zip', 'Line.ItemCode', 'Line.UniqueId',\n",
       "       '@CustomField(Invoice,DataSetName,Invoice,STRING)',\n",
       "       '@CustomField(Invoice,Cluster_Count,Invoice,INTEGER)',\n",
       "       '@CustomField(Invoice,TAMT,Invoice,DOUBLE)',\n",
       "       '@CustomField(Invoice,COUNTY_TAMT,Invoice,DOUBLE)',\n",
       "       '@CustomField(Invoice,PotentialTaxDue,Invoice,DOUBLE)',\n",
       "       '@CustomField(Invoice,CalculatedTax,Invoice,DOUBLE)',\n",
       "       '@CustomField(Invoice,TaxabilityClassification,Invoice,STRING)',\n",
       "       '@CustomField(Invoice,OCRExtractedSalesTax,OCR,DOUBLE)',\n",
       "       '@CustomField(Invoice,OCRConfidence,OCR,DOUBLE)',\n",
       "       '@CustomField(Invoice,MLConfidence,TaxAnalysis,DOUBLE)'],\n",
       "      dtype='object')"
      ]
     },
     "execution_count": 54,
     "metadata": {},
     "output_type": "execute_result"
    }
   ],
   "source": [
    "df.columns"
   ]
  },
  {
   "cell_type": "code",
   "execution_count": 55,
   "id": "f7f59f86",
   "metadata": {},
   "outputs": [
    {
     "data": {
      "text/plain": [
       "(4457, 61)"
      ]
     },
     "execution_count": 55,
     "metadata": {},
     "output_type": "execute_result"
    }
   ],
   "source": [
    "df.shape"
   ]
  },
  {
   "cell_type": "code",
   "execution_count": 56,
   "id": "280feb26",
   "metadata": {},
   "outputs": [
    {
     "data": {
      "text/plain": [
       "Invoice.ParentCompanyCode                      0\n",
       "Invoice.CompanyCode                            0\n",
       "Invoice.VendorName                             8\n",
       "Invoice.VendorCode                             8\n",
       "Invoice.Date                                   0\n",
       "Invoice.Number                                 0\n",
       "Invoice.Sequence                               0\n",
       "Line.Number                                    0\n",
       "Line.CostCenterCode                            0\n",
       "Line.GLMainAccountNumber                       0\n",
       "Line.GLSubAccountNumber                        0\n",
       "Line.GLAccountDescription                      0\n",
       "Invoice.Description                            0\n",
       "Line.ItemDescription                           0\n",
       "Invoice.GrossValue                             0\n",
       "Invoice.SalesTaxPaid                           0\n",
       "Invoice.UseTax                                 0\n",
       "Invoice.NetValue                               0\n",
       "Line.GrossValue                                0\n",
       "Line.SalesTaxPaid                              0\n",
       "Line.UseTax                                    0\n",
       "Line.NetValue                                  0\n",
       "Invoice.PaymentReference                       0\n",
       "Taxability.STATE.JurisdictionCode              0\n",
       "Taxability.STATE.JurisdictionDescription       0\n",
       "Taxability.STATE.OutOfStatuteDate              0\n",
       "Document.Name                               4457\n",
       "Taxability.Mode                                0\n",
       "Taxability.STATE.Status                        0\n",
       "Taxability.STATE.ReviewStatus                  0\n",
       "Taxability.STATE.Confidence                    0\n",
       "dtype: int64"
      ]
     },
     "execution_count": 56,
     "metadata": {},
     "output_type": "execute_result"
    }
   ],
   "source": [
    "df.isnull().sum().head(31)"
   ]
  },
  {
   "cell_type": "code",
   "execution_count": 57,
   "id": "530b66e8",
   "metadata": {},
   "outputs": [
    {
     "data": {
      "text/plain": [
       "Taxability.STATE.Exemption.CategoryCode                           907\n",
       "Invoice.ShipToAddress.City                                       4457\n",
       "Invoice.ShipToAddress.State                                      4457\n",
       "Invoice.ShipToAddress.Street                                     4457\n",
       "Invoice.ShipToAddress.County                                     4457\n",
       "Invoice.ShipToAddress.Zip                                        4457\n",
       "Invoice.Note.text                                                   0\n",
       "Invoice.VoucherCode                                                 0\n",
       "Invoice.TransactionDate                                             0\n",
       "Taxability.STATE.TaxEstimated.Rate                                  0\n",
       "Taxability.STATE.TaxEstimated.TaxableAmount                      4457\n",
       "Line.PurchaseOrderNumber                                            0\n",
       "Line.PurchaseOrderDescription                                       0\n",
       "Line.ShipToAddress.City                                          4457\n",
       "Line.ShipToAddress.State                                            0\n",
       "Line.ShipToAddress.Street                                        4457\n",
       "Line.ShipToAddress.County                                        4457\n",
       "Line.ShipToAddress.Zip                                           4457\n",
       "Line.ItemCode                                                       0\n",
       "Line.UniqueId                                                       0\n",
       "@CustomField(Invoice,DataSetName,Invoice,STRING)                    0\n",
       "@CustomField(Invoice,Cluster_Count,Invoice,INTEGER)              4457\n",
       "@CustomField(Invoice,TAMT,Invoice,DOUBLE)                        4457\n",
       "@CustomField(Invoice,COUNTY_TAMT,Invoice,DOUBLE)                 4457\n",
       "@CustomField(Invoice,PotentialTaxDue,Invoice,DOUBLE)                0\n",
       "@CustomField(Invoice,CalculatedTax,Invoice,DOUBLE)                  0\n",
       "@CustomField(Invoice,TaxabilityClassification,Invoice,STRING)       0\n",
       "@CustomField(Invoice,OCRExtractedSalesTax,OCR,DOUBLE)            4457\n",
       "@CustomField(Invoice,OCRConfidence,OCR,DOUBLE)                   4457\n",
       "@CustomField(Invoice,MLConfidence,TaxAnalysis,DOUBLE)               0\n",
       "dtype: int64"
      ]
     },
     "execution_count": 57,
     "metadata": {},
     "output_type": "execute_result"
    }
   ],
   "source": [
    "df.isnull().sum().tail(30)"
   ]
  },
  {
   "cell_type": "code",
   "execution_count": 58,
   "id": "c8cf9d2b",
   "metadata": {},
   "outputs": [],
   "source": [
    "test_df=df"
   ]
  },
  {
   "cell_type": "code",
   "execution_count": 59,
   "id": "484e5335",
   "metadata": {},
   "outputs": [
    {
     "data": {
      "text/plain": [
       "(4457, 61)"
      ]
     },
     "execution_count": 59,
     "metadata": {},
     "output_type": "execute_result"
    }
   ],
   "source": [
    "test_df.shape"
   ]
  },
  {
   "cell_type": "markdown",
   "id": "81b7e020",
   "metadata": {},
   "source": [
    "Here we drop the columns with 0 values as they dont provide any information."
   ]
  },
  {
   "cell_type": "code",
   "execution_count": 60,
   "id": "580d6f50",
   "metadata": {},
   "outputs": [],
   "source": [
    "test_df=test_df.drop(\"Document.Name\",axis=1)\n",
    "test_df=test_df.drop(\"Invoice.ShipToAddress.City\",axis=1)\n",
    "test_df=test_df.drop(\"Invoice.ShipToAddress.State\",axis=1)\n",
    "test_df=test_df.drop(\"Invoice.ShipToAddress.Street\",axis=1)\n",
    "test_df=test_df.drop(\"Invoice.ShipToAddress.County\",axis=1)\n",
    "test_df=test_df.drop(\"Invoice.ShipToAddress.Zip\",axis=1)\n",
    "test_df=test_df.drop(\"Taxability.STATE.TaxEstimated.TaxableAmount\",axis=1)\n",
    "test_df=test_df.drop(\"Line.ShipToAddress.City\",axis=1)\n",
    "test_df=test_df.drop(\"Line.ShipToAddress.Street\",axis=1)\n",
    "test_df=test_df.drop(\"Line.ShipToAddress.County\",axis=1)\n",
    "test_df=test_df.drop(\"Line.ShipToAddress.Zip\",axis=1)\n",
    "test_df=test_df.drop(\"@CustomField(Invoice,Cluster_Count,Invoice,INTEGER)\",axis=1)\n",
    "test_df=test_df.drop(\"@CustomField(Invoice,TAMT,Invoice,DOUBLE)\",axis=1)\n",
    "test_df=test_df.drop(\"@CustomField(Invoice,COUNTY_TAMT,Invoice,DOUBLE)\",axis=1)\n",
    "test_df=test_df.drop(\"@CustomField(Invoice,OCRExtractedSalesTax,OCR,DOUBLE)\",axis=1)\n",
    "test_df=test_df.drop(\"@CustomField(Invoice,OCRConfidence,OCR,DOUBLE)\",axis=1)"
   ]
  },
  {
   "cell_type": "code",
   "execution_count": 61,
   "id": "7e737a45",
   "metadata": {},
   "outputs": [
    {
     "data": {
      "text/plain": [
       "(4457, 45)"
      ]
     },
     "execution_count": 61,
     "metadata": {},
     "output_type": "execute_result"
    }
   ],
   "source": [
    "test_df.shape"
   ]
  },
  {
   "cell_type": "code",
   "execution_count": 62,
   "id": "2d8e3034",
   "metadata": {},
   "outputs": [
    {
     "data": {
      "text/plain": [
       "Invoice.ParentCompanyCode                                          35\n",
       "Invoice.CompanyCode                                                35\n",
       "Invoice.VendorName                                                439\n",
       "Invoice.VendorCode                                                444\n",
       "Invoice.Date                                                      567\n",
       "Invoice.Number                                                   4457\n",
       "Invoice.Sequence                                                    1\n",
       "Line.Number                                                         1\n",
       "Line.CostCenterCode                                               252\n",
       "Line.GLMainAccountNumber                                           86\n",
       "Line.GLSubAccountNumber                                           249\n",
       "Line.GLAccountDescription                                          91\n",
       "Invoice.Description                                              2534\n",
       "Line.ItemDescription                                             3557\n",
       "Invoice.GrossValue                                                  1\n",
       "Invoice.SalesTaxPaid                                                1\n",
       "Invoice.UseTax                                                      1\n",
       "Invoice.NetValue                                                    1\n",
       "Line.GrossValue                                                     1\n",
       "Line.SalesTaxPaid                                                   1\n",
       "Line.UseTax                                                         1\n",
       "Line.NetValue                                                       1\n",
       "Invoice.PaymentReference                                         4457\n",
       "Taxability.STATE.JurisdictionCode                                   1\n",
       "Taxability.STATE.JurisdictionDescription                            1\n",
       "Taxability.STATE.OutOfStatuteDate                                  27\n",
       "Taxability.Mode                                                     1\n",
       "Taxability.STATE.Status                                             2\n",
       "Taxability.STATE.ReviewStatus                                       1\n",
       "Taxability.STATE.Confidence                                         1\n",
       "Taxability.STATE.Exemption.CategoryCode                            19\n",
       "Invoice.Note.text                                                 213\n",
       "Invoice.VoucherCode                                              3108\n",
       "Invoice.TransactionDate                                           567\n",
       "Taxability.STATE.TaxEstimated.Rate                                  1\n",
       "Line.PurchaseOrderNumber                                         1289\n",
       "Line.PurchaseOrderDescription                                     632\n",
       "Line.ShipToAddress.State                                            1\n",
       "Line.ItemCode                                                     176\n",
       "Line.UniqueId                                                    4457\n",
       "@CustomField(Invoice,DataSetName,Invoice,STRING)                    1\n",
       "@CustomField(Invoice,PotentialTaxDue,Invoice,DOUBLE)                2\n",
       "@CustomField(Invoice,CalculatedTax,Invoice,DOUBLE)                  2\n",
       "@CustomField(Invoice,TaxabilityClassification,Invoice,STRING)       2\n",
       "@CustomField(Invoice,MLConfidence,TaxAnalysis,DOUBLE)               1\n",
       "dtype: int64"
      ]
     },
     "execution_count": 62,
     "metadata": {},
     "output_type": "execute_result"
    }
   ],
   "source": [
    "test_df.nunique()"
   ]
  },
  {
   "cell_type": "markdown",
   "id": "bace287d",
   "metadata": {},
   "source": [
    "Here, we drop the columns with constant values."
   ]
  },
  {
   "cell_type": "code",
   "execution_count": 67,
   "id": "54fee8cd",
   "metadata": {},
   "outputs": [],
   "source": [
    "test_df=test_df.drop(\"Invoice.Sequence\",axis=1)\n",
    "test_df=test_df.drop(\"Line.Number\",axis=1)\n",
    "test_df=test_df.drop(\"Invoice.GrossValue\",axis=1)\n",
    "test_df=test_df.drop(\"Invoice.SalesTaxPaid\",axis=1)\n",
    "test_df=test_df.drop(\"Invoice.UseTax\",axis=1)\n",
    "test_df=test_df.drop(\"Invoice.NetValue\",axis=1)\n",
    "test_df=test_df.drop(\"Line.GrossValue\",axis=1)\n",
    "test_df=test_df.drop(\"Line.SalesTaxPaid\",axis=1)\n",
    "test_df=test_df.drop(\"Line.UseTax\",axis=1)\n",
    "test_df=test_df.drop(\"Line.NetValue\",axis=1)\n",
    "test_df=test_df.drop(\"Taxability.STATE.JurisdictionCode\",axis=1)\n",
    "test_df=test_df.drop(\"Taxability.Mode\",axis=1)\n",
    "test_df=test_df.drop(\"Taxability.STATE.JurisdictionDescription\",axis=1)\n",
    "test_df=test_df.drop(\"Taxability.STATE.ReviewStatus\",axis=1)\n",
    "test_df=test_df.drop(\"Taxability.STATE.Confidence\",axis=1)\n",
    "test_df=test_df.drop(\"Taxability.STATE.TaxEstimated.Rate\",axis=1)\n",
    "test_df=test_df.drop(\"Line.ShipToAddress.State\",axis=1)\n",
    "test_df=test_df.drop(\"@CustomField(Invoice,DataSetName,Invoice,STRING)\",axis=1)\n",
    "test_df=test_df.drop(\"@CustomField(Invoice,MLConfidence,TaxAnalysis,DOUBLE)\",axis=1)"
   ]
  },
  {
   "cell_type": "markdown",
   "id": "8b357d9a",
   "metadata": {},
   "source": [
    "Here we drop the columns with exactly the same number of entries as the number of rows in the dataset."
   ]
  },
  {
   "cell_type": "code",
   "execution_count": 70,
   "id": "a8f172ad",
   "metadata": {},
   "outputs": [],
   "source": [
    "test_df=test_df.drop(\"Invoice.Number\",axis=1)\n",
    "test_df=test_df.drop(\"Invoice.PaymentReference\",axis=1)"
   ]
  },
  {
   "cell_type": "code",
   "execution_count": 83,
   "id": "d275fd8a",
   "metadata": {},
   "outputs": [],
   "source": [
    "test_df=test_df.drop(\"Line.UniqueId\",axis=1)"
   ]
  },
  {
   "cell_type": "code",
   "execution_count": 84,
   "id": "e729be6b",
   "metadata": {},
   "outputs": [
    {
     "name": "stdout",
     "output_type": "stream",
     "text": [
      "<class 'pandas.core.frame.DataFrame'>\n",
      "RangeIndex: 4457 entries, 0 to 4456\n",
      "Data columns (total 23 columns):\n",
      " #   Column                                                         Non-Null Count  Dtype  \n",
      "---  ------                                                         --------------  -----  \n",
      " 0   Invoice.ParentCompanyCode                                      4457 non-null   int64  \n",
      " 1   Invoice.CompanyCode                                            4457 non-null   object \n",
      " 2   Invoice.VendorName                                             4449 non-null   object \n",
      " 3   Invoice.VendorCode                                             4449 non-null   object \n",
      " 4   Invoice.Date                                                   4457 non-null   object \n",
      " 5   Line.CostCenterCode                                            4457 non-null   object \n",
      " 6   Line.GLMainAccountNumber                                       4457 non-null   object \n",
      " 7   Line.GLSubAccountNumber                                        4457 non-null   object \n",
      " 8   Line.GLAccountDescription                                      4457 non-null   object \n",
      " 9   Invoice.Description                                            4457 non-null   object \n",
      " 10  Line.ItemDescription                                           4457 non-null   object \n",
      " 11  Taxability.STATE.OutOfStatuteDate                              4457 non-null   object \n",
      " 12  Taxability.STATE.Status                                        4457 non-null   object \n",
      " 13  Taxability.STATE.Exemption.CategoryCode                        3550 non-null   object \n",
      " 14  Invoice.Note.text                                              4457 non-null   object \n",
      " 15  Invoice.VoucherCode                                            4457 non-null   int64  \n",
      " 16  Invoice.TransactionDate                                        4457 non-null   object \n",
      " 17  Line.PurchaseOrderNumber                                       4457 non-null   object \n",
      " 18  Line.PurchaseOrderDescription                                  4457 non-null   object \n",
      " 19  Line.ItemCode                                                  4457 non-null   object \n",
      " 20  @CustomField(Invoice,PotentialTaxDue,Invoice,DOUBLE)           4457 non-null   float64\n",
      " 21  @CustomField(Invoice,CalculatedTax,Invoice,DOUBLE)             4457 non-null   float64\n",
      " 22  @CustomField(Invoice,TaxabilityClassification,Invoice,STRING)  4457 non-null   object \n",
      "dtypes: float64(2), int64(2), object(19)\n",
      "memory usage: 801.0+ KB\n"
     ]
    }
   ],
   "source": [
    "test_df.info()"
   ]
  },
  {
   "cell_type": "code",
   "execution_count": null,
   "id": "c8542c46",
   "metadata": {},
   "outputs": [],
   "source": []
  },
  {
   "cell_type": "markdown",
   "id": "d52130b2",
   "metadata": {},
   "source": [
    "After removing the columns that could not provide any information, we are left with 23 columns."
   ]
  },
  {
   "cell_type": "code",
   "execution_count": 85,
   "id": "876ff933",
   "metadata": {},
   "outputs": [
    {
     "data": {
      "text/plain": [
       "Invoice.ParentCompanyCode                                          35\n",
       "Invoice.CompanyCode                                                35\n",
       "Invoice.VendorName                                                439\n",
       "Invoice.VendorCode                                                444\n",
       "Invoice.Date                                                      567\n",
       "Line.CostCenterCode                                               252\n",
       "Line.GLMainAccountNumber                                           86\n",
       "Line.GLSubAccountNumber                                           249\n",
       "Line.GLAccountDescription                                          91\n",
       "Invoice.Description                                              2534\n",
       "Line.ItemDescription                                             3557\n",
       "Taxability.STATE.OutOfStatuteDate                                  27\n",
       "Taxability.STATE.Status                                             2\n",
       "Taxability.STATE.Exemption.CategoryCode                            19\n",
       "Invoice.Note.text                                                 213\n",
       "Invoice.VoucherCode                                              3108\n",
       "Invoice.TransactionDate                                           567\n",
       "Line.PurchaseOrderNumber                                         1289\n",
       "Line.PurchaseOrderDescription                                     632\n",
       "Line.ItemCode                                                     176\n",
       "@CustomField(Invoice,PotentialTaxDue,Invoice,DOUBLE)                2\n",
       "@CustomField(Invoice,CalculatedTax,Invoice,DOUBLE)                  2\n",
       "@CustomField(Invoice,TaxabilityClassification,Invoice,STRING)       2\n",
       "dtype: int64"
      ]
     },
     "execution_count": 85,
     "metadata": {},
     "output_type": "execute_result"
    }
   ],
   "source": [
    "test_df.nunique()"
   ]
  },
  {
   "cell_type": "code",
   "execution_count": 86,
   "id": "7886ca7c",
   "metadata": {},
   "outputs": [
    {
     "name": "stdout",
     "output_type": "stream",
     "text": [
      "<class 'pandas.core.frame.DataFrame'>\n",
      "RangeIndex: 4457 entries, 0 to 4456\n",
      "Data columns (total 23 columns):\n",
      " #   Column                                                         Non-Null Count  Dtype  \n",
      "---  ------                                                         --------------  -----  \n",
      " 0   Invoice.ParentCompanyCode                                      4457 non-null   int64  \n",
      " 1   Invoice.CompanyCode                                            4457 non-null   object \n",
      " 2   Invoice.VendorName                                             4449 non-null   object \n",
      " 3   Invoice.VendorCode                                             4449 non-null   object \n",
      " 4   Invoice.Date                                                   4457 non-null   object \n",
      " 5   Line.CostCenterCode                                            4457 non-null   object \n",
      " 6   Line.GLMainAccountNumber                                       4457 non-null   object \n",
      " 7   Line.GLSubAccountNumber                                        4457 non-null   object \n",
      " 8   Line.GLAccountDescription                                      4457 non-null   object \n",
      " 9   Invoice.Description                                            4457 non-null   object \n",
      " 10  Line.ItemDescription                                           4457 non-null   object \n",
      " 11  Taxability.STATE.OutOfStatuteDate                              4457 non-null   object \n",
      " 12  Taxability.STATE.Status                                        4457 non-null   object \n",
      " 13  Taxability.STATE.Exemption.CategoryCode                        3550 non-null   object \n",
      " 14  Invoice.Note.text                                              4457 non-null   object \n",
      " 15  Invoice.VoucherCode                                            4457 non-null   int64  \n",
      " 16  Invoice.TransactionDate                                        4457 non-null   object \n",
      " 17  Line.PurchaseOrderNumber                                       4457 non-null   object \n",
      " 18  Line.PurchaseOrderDescription                                  4457 non-null   object \n",
      " 19  Line.ItemCode                                                  4457 non-null   object \n",
      " 20  @CustomField(Invoice,PotentialTaxDue,Invoice,DOUBLE)           4457 non-null   float64\n",
      " 21  @CustomField(Invoice,CalculatedTax,Invoice,DOUBLE)             4457 non-null   float64\n",
      " 22  @CustomField(Invoice,TaxabilityClassification,Invoice,STRING)  4457 non-null   object \n",
      "dtypes: float64(2), int64(2), object(19)\n",
      "memory usage: 801.0+ KB\n"
     ]
    }
   ],
   "source": [
    "test_df.info()"
   ]
  },
  {
   "cell_type": "code",
   "execution_count": 92,
   "id": "4bc642fa",
   "metadata": {},
   "outputs": [
    {
     "data": {
      "text/plain": [
       "NO_ERROR    3385\n",
       "REFUND      1072\n",
       "Name: @CustomField(Invoice,TaxabilityClassification,Invoice,STRING), dtype: int64"
      ]
     },
     "execution_count": 92,
     "metadata": {},
     "output_type": "execute_result"
    }
   ],
   "source": [
    "test_df[\"@CustomField(Invoice,TaxabilityClassification,Invoice,STRING)\"].value_counts()"
   ]
  },
  {
   "cell_type": "code",
   "execution_count": 88,
   "id": "5d3f3c30",
   "metadata": {},
   "outputs": [
    {
     "data": {
      "text/plain": [
       "TAXABLE       3385\n",
       "NONTAXABLE    1072\n",
       "Name: Taxability.STATE.Status, dtype: int64"
      ]
     },
     "execution_count": 88,
     "metadata": {},
     "output_type": "execute_result"
    }
   ],
   "source": [
    "test_df[\"Taxability.STATE.Status\"].value_counts()"
   ]
  },
  {
   "cell_type": "code",
   "execution_count": 90,
   "id": "0646754f",
   "metadata": {},
   "outputs": [
    {
     "data": {
      "text/html": [
       "<div>\n",
       "<style scoped>\n",
       "    .dataframe tbody tr th:only-of-type {\n",
       "        vertical-align: middle;\n",
       "    }\n",
       "\n",
       "    .dataframe tbody tr th {\n",
       "        vertical-align: top;\n",
       "    }\n",
       "\n",
       "    .dataframe thead th {\n",
       "        text-align: right;\n",
       "    }\n",
       "</style>\n",
       "<table border=\"1\" class=\"dataframe\">\n",
       "  <thead>\n",
       "    <tr style=\"text-align: right;\">\n",
       "      <th></th>\n",
       "      <th>@CustomField(Invoice,TaxabilityClassification,Invoice,STRING)</th>\n",
       "      <th>Taxability.STATE.Status</th>\n",
       "    </tr>\n",
       "  </thead>\n",
       "  <tbody>\n",
       "    <tr>\n",
       "      <th>0</th>\n",
       "      <td>REFUND</td>\n",
       "      <td>NONTAXABLE</td>\n",
       "    </tr>\n",
       "    <tr>\n",
       "      <th>1</th>\n",
       "      <td>REFUND</td>\n",
       "      <td>NONTAXABLE</td>\n",
       "    </tr>\n",
       "    <tr>\n",
       "      <th>2</th>\n",
       "      <td>REFUND</td>\n",
       "      <td>NONTAXABLE</td>\n",
       "    </tr>\n",
       "    <tr>\n",
       "      <th>3</th>\n",
       "      <td>REFUND</td>\n",
       "      <td>NONTAXABLE</td>\n",
       "    </tr>\n",
       "    <tr>\n",
       "      <th>4</th>\n",
       "      <td>REFUND</td>\n",
       "      <td>NONTAXABLE</td>\n",
       "    </tr>\n",
       "    <tr>\n",
       "      <th>5</th>\n",
       "      <td>REFUND</td>\n",
       "      <td>NONTAXABLE</td>\n",
       "    </tr>\n",
       "    <tr>\n",
       "      <th>6</th>\n",
       "      <td>NO_ERROR</td>\n",
       "      <td>TAXABLE</td>\n",
       "    </tr>\n",
       "    <tr>\n",
       "      <th>7</th>\n",
       "      <td>REFUND</td>\n",
       "      <td>NONTAXABLE</td>\n",
       "    </tr>\n",
       "    <tr>\n",
       "      <th>8</th>\n",
       "      <td>NO_ERROR</td>\n",
       "      <td>TAXABLE</td>\n",
       "    </tr>\n",
       "    <tr>\n",
       "      <th>9</th>\n",
       "      <td>REFUND</td>\n",
       "      <td>NONTAXABLE</td>\n",
       "    </tr>\n",
       "    <tr>\n",
       "      <th>10</th>\n",
       "      <td>REFUND</td>\n",
       "      <td>NONTAXABLE</td>\n",
       "    </tr>\n",
       "  </tbody>\n",
       "</table>\n",
       "</div>"
      ],
      "text/plain": [
       "   @CustomField(Invoice,TaxabilityClassification,Invoice,STRING)  \\\n",
       "0                                              REFUND              \n",
       "1                                              REFUND              \n",
       "2                                              REFUND              \n",
       "3                                              REFUND              \n",
       "4                                              REFUND              \n",
       "5                                              REFUND              \n",
       "6                                            NO_ERROR              \n",
       "7                                              REFUND              \n",
       "8                                            NO_ERROR              \n",
       "9                                              REFUND              \n",
       "10                                             REFUND              \n",
       "\n",
       "   Taxability.STATE.Status  \n",
       "0               NONTAXABLE  \n",
       "1               NONTAXABLE  \n",
       "2               NONTAXABLE  \n",
       "3               NONTAXABLE  \n",
       "4               NONTAXABLE  \n",
       "5               NONTAXABLE  \n",
       "6                  TAXABLE  \n",
       "7               NONTAXABLE  \n",
       "8                  TAXABLE  \n",
       "9               NONTAXABLE  \n",
       "10              NONTAXABLE  "
      ]
     },
     "execution_count": 90,
     "metadata": {},
     "output_type": "execute_result"
    }
   ],
   "source": [
    "test_df.loc[:10,['@CustomField(Invoice,TaxabilityClassification,Invoice,STRING)','Taxability.STATE.Status']]"
   ]
  },
  {
   "cell_type": "code",
   "execution_count": null,
   "id": "f8aab138",
   "metadata": {},
   "outputs": [],
   "source": []
  }
 ],
 "metadata": {
  "kernelspec": {
   "display_name": "Python 3 (ipykernel)",
   "language": "python",
   "name": "python3"
  },
  "language_info": {
   "codemirror_mode": {
    "name": "ipython",
    "version": 3
   },
   "file_extension": ".py",
   "mimetype": "text/x-python",
   "name": "python",
   "nbconvert_exporter": "python",
   "pygments_lexer": "ipython3",
   "version": "3.9.13"
  }
 },
 "nbformat": 4,
 "nbformat_minor": 5
}
