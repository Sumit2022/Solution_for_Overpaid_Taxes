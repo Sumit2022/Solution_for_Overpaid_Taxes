{
 "cells": [
  {
   "cell_type": "markdown",
   "id": "3beafd08-fe80-4179-aac9-41181ac52f7d",
   "metadata": {},
   "source": [
    "# Solution for Overpaid Taxes"
   ]
  },
  {
   "cell_type": "markdown",
   "id": "7e022535-4930-40d5-924a-467ab84575c5",
   "metadata": {},
   "source": [
    "## Problem Understanding"
   ]
  },
  {
   "cell_type": "markdown",
   "id": "ef3d852f-ea0a-4e65-89d1-2f7ad261688e",
   "metadata": {},
   "source": [
    "\n",
    "Ask:\n",
    "\n",
    "Develop a data science-based solution to optimize Deloitte Tax's process of identifying and refunding overpaid taxes for their clients. Analyze existing data from the client's accounts payable system to discover potential areas of improvement and create a model to streamline the process. Apply the data science process (attached) to historical client project data and present your findings and model to the Deloitte Tax team.\n",
    " \n",
    "Context:\n",
    "\n",
    "Clients provide 4 years’ worth of export data from their accounts payable system. This covers all areas of their business spending, and can cover multiple different tax jurisdictions.\n",
    "Each jurisdiction can have their own way to treat the taxability for the same items.\n",
    "The main output of the work Deloitte teams do currently are determinations for taxability, which can be ‘taxable’ and ‘non-taxable’. Once this determination is made, overpayments are found by finding when taxes have been paid for transactions that are ‘non-taxable’. This field is labeled “Taxability.STATE.Status”\n",
    "Clients want to understand why determinations are made so that their tax software can be updated to address mistakes previously made. Incorporate this need into the type and complexity of the model selected. \n",
    " \n"
   ]
  },
  {
   "cell_type": "markdown",
   "id": "ea605ffb-6a36-47a0-92ae-214e9f002f04",
   "metadata": {},
   "source": [
    "## Import libraries and load data"
   ]
  },
  {
   "cell_type": "code",
   "execution_count": null,
   "id": "741699c9-0ba7-4fd5-8c6b-758be4d00edd",
   "metadata": {},
   "outputs": [],
   "source": [
    "import pandas as pd\n",
    "import numpy as np\n",
    "import seaborn as sns\n",
    "from ydata_profiling import ProfileReport\n",
    "from sklearn.model_selection import train_test_split\n",
    "from sklearn.compose import ColumnTransformer\n",
    "from sklearn.pipeline import Pipeline\n",
    "from sklearn import metrics\n",
    "from sklearn.metrics import mean_squared_error,confusion_matrix\n",
    "from sklearn.metrics import auc,roc_curve, accuracy_score, classification_report\n",
    "from sklearn.model_selection import cross_val_score\n",
    "from sklearn import model_selection\n",
    "import matplotlib.pyplot as plt\n",
    "%matplotlib inline"
   ]
  },
  {
   "cell_type": "code",
   "execution_count": null,
   "id": "a1f6cf08-9399-4c14-8341-e759aa153966",
   "metadata": {},
   "outputs": [],
   "source": [
    "# Load data\n",
    "df = pd.read_csv('Disney_CogTax_CA_Audit_Addl_Training-Working_Transaction[62].csv')"
   ]
  },
  {
   "cell_type": "markdown",
   "id": "3f8c294f-80a3-4ef2-8a19-86a07d2a9a45",
   "metadata": {},
   "source": [
    "## Exploratory Data Analysis (EDA)"
   ]
  },
  {
   "cell_type": "code",
   "execution_count": null,
   "id": "7c506fca-efec-4f48-8d23-cd3b312d1631",
   "metadata": {},
   "outputs": [],
   "source": [
    "# Dataframe shape\n",
    "print('Dataframe shape:')\n",
    "print(df.shape)"
   ]
  },
  {
   "cell_type": "markdown",
   "id": "94466cd0-f315-4b08-b34b-c68970cf4481",
   "metadata": {},
   "source": [
    "Looking at the shape of the dataframe there are 4457 rows and 61 columns"
   ]
  },
  {
   "cell_type": "markdown",
   "id": "778e18b1-5264-4970-9534-267c0a15a20c",
   "metadata": {},
   "source": [
    "### Univariate Analysis"
   ]
  },
  {
   "cell_type": "code",
   "execution_count": null,
   "id": "75b5e965-4b60-4479-9487-3f18c2149c06",
   "metadata": {},
   "outputs": [],
   "source": [
    "# Basic info\n",
    "print('Basic Info:')\n",
    "print(df.info())\n",
    "print(' ')\n"
   ]
  },
  {
   "cell_type": "markdown",
   "id": "de8455d7-7965-4e7c-8267-89e168a59bf4",
   "metadata": {},
   "source": [
    "In Basic Info, all dataframe feature column names are listed. There are three data types: object, float64, and int64, therefore we have both numerical and categorical data in this dataframe. Several columns are empty and have no entries at all. Of those that do have entries, only one:\n",
    "\n",
    "     'Taxability.STATE.Exemption.CategoryCode'\n",
    "\n",
    "has missing data producing null values. "
   ]
  },
  {
   "cell_type": "code",
   "execution_count": null,
   "id": "0ede61e9-8160-4d40-9bd2-7fc7c721c42a",
   "metadata": {},
   "outputs": [],
   "source": [
    "df['Taxability.STATE.Status']"
   ]
  },
  {
   "cell_type": "markdown",
   "id": "afa2f19f-7daa-4b48-aabc-e69921b08161",
   "metadata": {},
   "source": [
    "This feature column gives us the determination for taxability as either TAXABLE or NONTAXABLE and will be the target variable."
   ]
  },
  {
   "cell_type": "code",
   "execution_count": null,
   "id": "b3cfa1b0-df38-4a7a-b59f-4397979e37b6",
   "metadata": {},
   "outputs": [],
   "source": []
  },
  {
   "cell_type": "code",
   "execution_count": null,
   "id": "ed510ba4-9cf6-4bc2-827f-3d60ea7821c6",
   "metadata": {},
   "outputs": [],
   "source": [
    "\n"
   ]
  },
  {
   "cell_type": "code",
   "execution_count": null,
   "id": "f97ac988-27be-437e-a2ba-422a7242ed32",
   "metadata": {},
   "outputs": [],
   "source": []
  }
 ],
 "metadata": {
  "kernelspec": {
   "display_name": "Python 3 (ipykernel)",
   "language": "python",
   "name": "python3"
  },
  "language_info": {
   "codemirror_mode": {
    "name": "ipython",
    "version": 3
   },
   "file_extension": ".py",
   "mimetype": "text/x-python",
   "name": "python",
   "nbconvert_exporter": "python",
   "pygments_lexer": "ipython3",
   "version": "3.9.12"
  }
 },
 "nbformat": 4,
 "nbformat_minor": 5
}
